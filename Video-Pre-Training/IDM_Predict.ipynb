{
 "cells": [
  {
   "cell_type": "code",
   "execution_count": 1,
   "metadata": {},
   "outputs": [],
   "source": [
    "import pickle\n",
    "import cv2\n",
    "import numpy as np\n",
    "import json\n",
    "import torch as th\n",
    "\n",
    "from agent import ENV_KWARGS\n",
    "from inverse_dynamics_model import IDMAgent\n",
    "\n",
    "\n",
    "KEYBOARD_BUTTON_MAPPING = {\n",
    "    \"key.keyboard.escape\" :\"ESC\",\n",
    "    \"key.keyboard.s\" :\"back\",\n",
    "    \"key.keyboard.q\" :\"drop\",\n",
    "    \"key.keyboard.w\" :\"forward\",\n",
    "    \"key.keyboard.1\" :\"hotbar.1\",\n",
    "    \"key.keyboard.2\" :\"hotbar.2\",\n",
    "    \"key.keyboard.3\" :\"hotbar.3\",\n",
    "    \"key.keyboard.4\" :\"hotbar.4\",\n",
    "    \"key.keyboard.5\" :\"hotbar.5\",\n",
    "    \"key.keyboard.6\" :\"hotbar.6\",\n",
    "    \"key.keyboard.7\" :\"hotbar.7\",\n",
    "    \"key.keyboard.8\" :\"hotbar.8\",\n",
    "    \"key.keyboard.9\" :\"hotbar.9\",\n",
    "    \"key.keyboard.e\" :\"inventory\",\n",
    "    \"key.keyboard.space\" :\"jump\",\n",
    "    \"key.keyboard.a\" :\"left\",\n",
    "    \"key.keyboard.d\" :\"right\",\n",
    "    \"key.keyboard.left.shift\" :\"sneak\",\n",
    "    \"key.keyboard.left.control\" :\"sprint\",\n",
    "    \"key.keyboard.f\" :\"swapHands\",\n",
    "}\n",
    "\n",
    "# Template action\n",
    "NOOP_ACTION = {\n",
    "    \"ESC\": 0,\n",
    "    \"back\": 0,\n",
    "    \"drop\": 0,\n",
    "    \"forward\": 0,\n",
    "    \"hotbar.1\": 0,\n",
    "    \"hotbar.2\": 0,\n",
    "    \"hotbar.3\": 0,\n",
    "    \"hotbar.4\": 0,\n",
    "    \"hotbar.5\": 0,\n",
    "    \"hotbar.6\": 0,\n",
    "    \"hotbar.7\": 0,\n",
    "    \"hotbar.8\": 0,\n",
    "    \"hotbar.9\": 0,\n",
    "    \"inventory\": 0,\n",
    "    \"jump\": 0,\n",
    "    \"left\": 0,\n",
    "    \"right\": 0,\n",
    "    \"sneak\": 0,\n",
    "    \"sprint\": 0,\n",
    "    \"swapHands\": 0,\n",
    "    \"camera\": np.array([0, 0]),\n",
    "    \"attack\": 0,\n",
    "    \"use\": 0,\n",
    "    \"pickItem\": 0,\n",
    "}\n",
    "\n",
    "# Matches a number in the MineRL Java code regarding sensitivity\n",
    "# This is for mapping from recorded sensitivity to the one used in the model\n",
    "CAMERA_SCALER = 360.0 / 2400.0\n",
    "\n",
    "\n",
    "def json_action_to_env_action(json_action):\n",
    "    \"\"\"\n",
    "    Converts a json action into a MineRL action.\n",
    "    Returns (minerl_action, is_null_action)\n",
    "    \"\"\"\n",
    "    # This might be slow...\n",
    "    env_action = NOOP_ACTION.copy()\n",
    "    # As a safeguard, make camera action again so we do not override anything\n",
    "    env_action[\"camera\"] = np.array([0, 0])\n",
    "\n",
    "    is_null_action = True\n",
    "    keyboard_keys = json_action[\"keyboard\"][\"keys\"]\n",
    "    for key in keyboard_keys:\n",
    "        # You can have keys that we do not use, so just skip them\n",
    "        # NOTE in original training code, ESC was removed and replaced with\n",
    "        #      \"inventory\" action if GUI was open.\n",
    "        #      Not doing it here, as BASALT uses ESC to quit the game.\n",
    "        if key in KEYBOARD_BUTTON_MAPPING:\n",
    "            env_action[KEYBOARD_BUTTON_MAPPING[key]] = 1\n",
    "            is_null_action = False\n",
    "\n",
    "    mouse = json_action[\"mouse\"]\n",
    "    camera_action = env_action[\"camera\"]\n",
    "    camera_action[0] = mouse[\"dy\"] * CAMERA_SCALER\n",
    "    camera_action[1] = mouse[\"dx\"] * CAMERA_SCALER\n",
    "\n",
    "    if mouse[\"dx\"] != 0 or mouse[\"dy\"] != 0:\n",
    "        is_null_action = False\n",
    "    else:\n",
    "        if abs(camera_action[0]) > 180:\n",
    "            camera_action[0] = 0\n",
    "        if abs(camera_action[1]) > 180:\n",
    "            camera_action[1] = 0\n",
    "\n",
    "    mouse_buttons = mouse[\"buttons\"]\n",
    "    if 0 in mouse_buttons:\n",
    "        env_action[\"attack\"] = 1\n",
    "        is_null_action = False\n",
    "    if 1 in mouse_buttons:\n",
    "        env_action[\"use\"] = 1\n",
    "        is_null_action = False\n",
    "    if 2 in mouse_buttons:\n",
    "        env_action[\"pickItem\"] = 1\n",
    "        is_null_action = False\n",
    "\n",
    "    return env_action, is_null_action\n"
   ]
  },
  {
   "cell_type": "code",
   "execution_count": 2,
   "metadata": {},
   "outputs": [],
   "source": [
    "# Arguments\n",
    "model = 'models/4x_idm.model'\n",
    "weights = 'models/4x_idm.weights'\n",
    "video_path = 'data/cheeky-cornflower-setter-0a060253331a-20220717-155545.mp4'\n",
    "jsonl_path = 'data/cheeky-cornflower-setter-0a060253331a-20220717-155545.jsonl'"
   ]
  },
  {
   "cell_type": "code",
   "execution_count": 3,
   "metadata": {},
   "outputs": [],
   "source": [
    "agent_parameters = pickle.load(open(model, \"rb\"))\n",
    "net_kwargs = agent_parameters[\"model\"][\"args\"][\"net\"][\"args\"]\n",
    "pi_head_kwargs = agent_parameters[\"model\"][\"args\"][\"pi_head_opts\"]\n",
    "pi_head_kwargs[\"temperature\"] = float(pi_head_kwargs[\"temperature\"])\n",
    "agent = IDMAgent(idm_net_kwargs=net_kwargs, pi_head_kwargs=pi_head_kwargs)\n",
    "agent.load_weights(weights)"
   ]
  },
  {
   "cell_type": "code",
   "execution_count": 4,
   "metadata": {},
   "outputs": [
    {
     "name": "stdout",
     "output_type": "stream",
     "text": [
      "Resolution: [640, 360]\n"
     ]
    }
   ],
   "source": [
    "required_resolution = ENV_KWARGS[\"resolution\"]\n",
    "print(f'Resolution: {required_resolution}')\n",
    "cap = cv2.VideoCapture(video_path)"
   ]
  },
  {
   "cell_type": "code",
   "execution_count": 5,
   "metadata": {},
   "outputs": [],
   "source": [
    "# Load frames in batches\n",
    "frames = []\n",
    "while (cap.isOpened()):\n",
    "    ret, frame = cap.read()\n",
    "    if not ret:\n",
    "        break\n",
    "    assert frame.shape[0] == required_resolution[1] and frame.shape[1] == required_resolution[0], \"Video must be of resolution {}\".format(required_resolution)\n",
    "    # BGR -> RGB\n",
    "    frames.append(frame[..., ::-1])"
   ]
  },
  {
   "cell_type": "code",
   "execution_count": 6,
   "metadata": {},
   "outputs": [
    {
     "data": {
      "text/plain": [
       "1098"
      ]
     },
     "execution_count": 6,
     "metadata": {},
     "output_type": "execute_result"
    }
   ],
   "source": [
    "len(frames)"
   ]
  },
  {
   "cell_type": "code",
   "execution_count": 7,
   "metadata": {},
   "outputs": [],
   "source": [
    "with open(jsonl_path) as json_file:\n",
    "    json_lines = json_file.readlines()\n",
    "    json_data = \"[\" + \",\".join(json_lines) + \"]\"\n",
    "    json_data = json.loads(json_data)"
   ]
  },
  {
   "cell_type": "code",
   "execution_count": 8,
   "metadata": {},
   "outputs": [
    {
     "data": {
      "text/plain": [
       "({'ESC': 0,\n",
       "  'back': 0,\n",
       "  'drop': 0,\n",
       "  'forward': 0,\n",
       "  'hotbar.1': 0,\n",
       "  'hotbar.2': 0,\n",
       "  'hotbar.3': 0,\n",
       "  'hotbar.4': 0,\n",
       "  'hotbar.5': 0,\n",
       "  'hotbar.6': 0,\n",
       "  'hotbar.7': 0,\n",
       "  'hotbar.8': 0,\n",
       "  'hotbar.9': 0,\n",
       "  'inventory': 0,\n",
       "  'jump': 0,\n",
       "  'left': 0,\n",
       "  'right': 0,\n",
       "  'sneak': 0,\n",
       "  'sprint': 0,\n",
       "  'swapHands': 0,\n",
       "  'camera': array([0, 0]),\n",
       "  'attack': 1,\n",
       "  'use': 0,\n",
       "  'pickItem': 0},\n",
       " False)"
      ]
     },
     "execution_count": 8,
     "metadata": {},
     "output_type": "execute_result"
    }
   ],
   "source": [
    "json_action_to_env_action(json_data[0])"
   ]
  },
  {
   "cell_type": "code",
   "execution_count": 9,
   "metadata": {},
   "outputs": [],
   "source": [
    "predicted_actions = agent.predict_actions(np.stack(frames[:128]))"
   ]
  },
  {
   "cell_type": "code",
   "execution_count": 26,
   "metadata": {},
   "outputs": [],
   "source": [
    "def convert_idm_actions_env_actions(batch_predicted_actions):\n",
    "    '''Convert the batch of IDM actions to list of env actions'''\n",
    "\n",
    "    batch_size = batch_predicted_actions['attack'].shape[1]\n",
    "    env_actions = [NOOP_ACTION.copy() for _ in range(batch_size)]\n",
    "\n",
    "    for action, action_array in batch_predicted_actions.items():\n",
    "        action_array = action_array.squeeze(0)\n",
    "        \n",
    "        for i in range(len(action_array)):\n",
    "            if action == 'camera':\n",
    "                env_actions[i][action] = action_array[i].tolist()\n",
    "            elif action_array[i] == 1:\n",
    "                env_actions[i][action] = 1\n",
    "    \n",
    "    return env_actions"
   ]
  },
  {
   "cell_type": "code",
   "execution_count": 27,
   "metadata": {},
   "outputs": [],
   "source": [
    "pred_env_actions = convert_idm_actions_env_actions(predicted_actions)"
   ]
  },
  {
   "cell_type": "code",
   "execution_count": 28,
   "metadata": {},
   "outputs": [
    {
     "data": {
      "text/plain": [
       "array([ 0.        , -1.60949864])"
      ]
     },
     "execution_count": 28,
     "metadata": {},
     "output_type": "execute_result"
    }
   ],
   "source": [
    "predicted_actions['camera'][0][-2]"
   ]
  },
  {
   "cell_type": "code",
   "execution_count": 29,
   "metadata": {},
   "outputs": [
    {
     "data": {
      "text/plain": [
       "{'ESC': 0,\n",
       " 'back': 0,\n",
       " 'drop': 0,\n",
       " 'forward': 1,\n",
       " 'hotbar.1': 0,\n",
       " 'hotbar.2': 0,\n",
       " 'hotbar.3': 0,\n",
       " 'hotbar.4': 0,\n",
       " 'hotbar.5': 0,\n",
       " 'hotbar.6': 0,\n",
       " 'hotbar.7': 0,\n",
       " 'hotbar.8': 0,\n",
       " 'hotbar.9': 0,\n",
       " 'inventory': 0,\n",
       " 'jump': 0,\n",
       " 'left': 1,\n",
       " 'right': 0,\n",
       " 'sneak': 0,\n",
       " 'sprint': 0,\n",
       " 'swapHands': 0,\n",
       " 'camera': [0.0, -1.6094986352788734],\n",
       " 'attack': 0,\n",
       " 'use': 0,\n",
       " 'pickItem': 0}"
      ]
     },
     "execution_count": 29,
     "metadata": {},
     "output_type": "execute_result"
    }
   ],
   "source": [
    "pred_env_actions[-2]"
   ]
  },
  {
   "cell_type": "code",
   "execution_count": null,
   "metadata": {},
   "outputs": [],
   "source": []
  }
 ],
 "metadata": {
  "kernelspec": {
   "display_name": "minerl",
   "language": "python",
   "name": "python3"
  },
  "language_info": {
   "codemirror_mode": {
    "name": "ipython",
    "version": 3
   },
   "file_extension": ".py",
   "mimetype": "text/x-python",
   "name": "python",
   "nbconvert_exporter": "python",
   "pygments_lexer": "ipython3",
   "version": "3.8.15"
  },
  "orig_nbformat": 4
 },
 "nbformat": 4,
 "nbformat_minor": 2
}
