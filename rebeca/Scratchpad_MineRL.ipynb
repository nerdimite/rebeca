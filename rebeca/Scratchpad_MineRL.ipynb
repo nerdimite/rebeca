{
 "cells": [
  {
   "cell_type": "code",
   "execution_count": 6,
   "metadata": {},
   "outputs": [],
   "source": [
    "import gym\n",
    "import minerl\n",
    "import logging\n",
    "import coloredlogs\n",
    "import cv2\n",
    "coloredlogs.install(logging.DEBUG)"
   ]
  },
  {
   "cell_type": "code",
   "execution_count": null,
   "metadata": {},
   "outputs": [],
   "source": [
    "env = gym.make(\"MineRLBasaltMakeWaterfall-v0\")\n",
    "env.seed(4006)\n",
    "env.reset()"
   ]
  },
  {
   "cell_type": "code",
   "execution_count": null,
   "metadata": {},
   "outputs": [],
   "source": [
    "env.seed(4006)\n",
    "obs = env.reset()\n",
    "for i in range(600):\n",
    "    # Step your model here.\n",
    "    # Currently, it's doing no actions\n",
    "    # for 200 steps before quitting the episode\n",
    "    no_act = env.action_space.noop()\n",
    "\n",
    "    if i < 200:\n",
    "        no_act[\"ESC\"] = 0\n",
    "    else:\n",
    "        no_act[\"ESC\"] = 1\n",
    "\n",
    "    obs, reward, done, info = env.step(no_act)\n",
    "\n",
    "    env.render()\n",
    "    if done:\n",
    "        break\n",
    "\n",
    "env.close()\n",
    "cv2.destroyAllWindows()"
   ]
  },
  {
   "cell_type": "code",
   "execution_count": null,
   "metadata": {},
   "outputs": [],
   "source": []
  }
 ],
 "metadata": {
  "kernelspec": {
   "display_name": "pytorch",
   "language": "python",
   "name": "python3"
  },
  "language_info": {
   "codemirror_mode": {
    "name": "ipython",
    "version": 3
   },
   "file_extension": ".py",
   "mimetype": "text/x-python",
   "name": "python",
   "nbconvert_exporter": "python",
   "pygments_lexer": "ipython3",
   "version": "3.10.10"
  },
  "orig_nbformat": 4
 },
 "nbformat": 4,
 "nbformat_minor": 2
}
