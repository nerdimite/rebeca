{
 "cells": [
  {
   "cell_type": "code",
   "execution_count": 1,
   "metadata": {},
   "outputs": [],
   "source": [
    "from PIL import Image\n",
    "import torch\n",
    "import torch.nn as nn\n",
    "import numpy as np\n",
    "from model import VPTEncoder, Controller\n",
    "from memory import SituationLoader, Memory\n",
    "from matplotlib import pyplot as plt\n",
    "\n",
    "from openai_vpt.lib.action_mapping import CameraHierarchicalMapping\n",
    "from openai_vpt.lib.actions import ActionTransformer\n",
    "from action_utils import ActionProcessor"
   ]
  },
  {
   "cell_type": "code",
   "execution_count": 2,
   "metadata": {},
   "outputs": [],
   "source": [
    "in_model = \"data/VPT-models/foundation-model-1x.model\"\n",
    "in_weights = \"data/VPT-models/foundation-model-1x-net.weights\""
   ]
  },
  {
   "cell_type": "code",
   "execution_count": 3,
   "metadata": {},
   "outputs": [],
   "source": [
    "vpt = VPTEncoder(in_model, in_weights)\n",
    "vpt.eval()\n",
    "expert_dataloader = SituationLoader(vpt)"
   ]
  },
  {
   "cell_type": "code",
   "execution_count": 4,
   "metadata": {},
   "outputs": [
    {
     "data": {
      "application/vnd.jupyter.widget-view+json": {
       "model_id": "e626ec0c7600452ba77fb5ce80d24cea",
       "version_major": 2,
       "version_minor": 0
      },
      "text/plain": [
       "Loading expert demonstrations:   0%|          | 0/2 [00:00<?, ?it/s]"
      ]
     },
     "metadata": {},
     "output_type": "display_data"
    }
   ],
   "source": [
    "demonstrations = expert_dataloader.load_demonstrations(num_demos=2)"
   ]
  },
  {
   "cell_type": "code",
   "execution_count": 8,
   "metadata": {},
   "outputs": [
    {
     "data": {
      "application/vnd.jupyter.widget-view+json": {
       "model_id": "9565a2e6a5a6445199f096c4b0360aa2",
       "version_major": 2,
       "version_minor": 0
      },
      "text/plain": [
       "Encoding expert demonstrations:   0%|          | 0/2 [00:00<?, ?it/s]"
      ]
     },
     "metadata": {},
     "output_type": "display_data"
    },
    {
     "data": {
      "application/vnd.jupyter.widget-view+json": {
       "model_id": "66f95508e5664b10b3abb2d7d39fbc0b",
       "version_major": 2,
       "version_minor": 0
      },
      "text/plain": [
       "Encoding Trajectory:   0%|          | 0/2650 [00:00<?, ?it/s]"
      ]
     },
     "metadata": {},
     "output_type": "display_data"
    },
    {
     "data": {
      "application/vnd.jupyter.widget-view+json": {
       "model_id": "ded013cc0db5410d9e173c514e9ccb16",
       "version_major": 2,
       "version_minor": 0
      },
      "text/plain": [
       "Encoding Trajectory:   0%|          | 0/2497 [00:00<?, ?it/s]"
      ]
     },
     "metadata": {},
     "output_type": "display_data"
    }
   ],
   "source": [
    "encoded_demos = expert_dataloader.encode_demonstrations(demonstrations)"
   ]
  },
  {
   "cell_type": "code",
   "execution_count": 9,
   "metadata": {},
   "outputs": [
    {
     "data": {
      "application/vnd.jupyter.widget-view+json": {
       "model_id": "53af597fe96b42a68514cff9daeccfba",
       "version_major": 2,
       "version_minor": 0
      },
      "text/plain": [
       "Creating situations:   0%|          | 0/2 [00:00<?, ?it/s]"
      ]
     },
     "metadata": {},
     "output_type": "display_data"
    }
   ],
   "source": [
    "situations = expert_dataloader.create_situations(encoded_demos, stride=64)"
   ]
  },
  {
   "cell_type": "code",
   "execution_count": 5,
   "metadata": {},
   "outputs": [],
   "source": [
    "memory = Memory()"
   ]
  },
  {
   "cell_type": "code",
   "execution_count": 10,
   "metadata": {},
   "outputs": [],
   "source": [
    "memory.create_index(situations)"
   ]
  },
  {
   "cell_type": "code",
   "execution_count": 11,
   "metadata": {},
   "outputs": [],
   "source": [
    "memory.save_index(save_dir=\"data\")"
   ]
  },
  {
   "cell_type": "code",
   "execution_count": null,
   "metadata": {},
   "outputs": [],
   "source": [
    "# if 1 min can encode 4 trajectories, then how many hours can it encode 1000 trajectories?\n",
    "# 1000 trajectories * 4 min / 60 min = 33.3 hours\n",
    "# if I use 4 gpus, then it will take 8.3 hours"
   ]
  },
  {
   "cell_type": "code",
   "execution_count": 22,
   "metadata": {},
   "outputs": [
    {
     "data": {
      "text/plain": [
       "array([-0.1887441 , -0.20900242, -0.31735682, ..., -0.08190774,\n",
       "       -0.03389866, -0.06847372], dtype=float32)"
      ]
     },
     "execution_count": 22,
     "metadata": {},
     "output_type": "execute_result"
    }
   ],
   "source": [
    "memory.index.reconstruct(20)"
   ]
  },
  {
   "cell_type": "code",
   "execution_count": 6,
   "metadata": {},
   "outputs": [],
   "source": [
    "memory.load_index('data/memory.json')"
   ]
  },
  {
   "cell_type": "code",
   "execution_count": 18,
   "metadata": {},
   "outputs": [],
   "source": [
    "query = situations[0][\"situation\"]"
   ]
  },
  {
   "cell_type": "code",
   "execution_count": 35,
   "metadata": {},
   "outputs": [
    {
     "data": {
      "text/plain": [
       "{'idx': 0,\n",
       " 'demo_id': 'gimpy-jade-panda-f153ac423f61-20220717-084320',\n",
       " 'sit_frame_idx': 128,\n",
       " 'distance': 0.0,\n",
       " 'actions': {'buttons': [38,\n",
       "   38,\n",
       "   38,\n",
       "   38,\n",
       "   326,\n",
       "   326,\n",
       "   326,\n",
       "   326,\n",
       "   326,\n",
       "   423,\n",
       "   423,\n",
       "   422,\n",
       "   327,\n",
       "   327,\n",
       "   327,\n",
       "   327,\n",
       "   327,\n",
       "   519,\n",
       "   518,\n",
       "   518,\n",
       "   518,\n",
       "   518,\n",
       "   326,\n",
       "   326,\n",
       "   326,\n",
       "   326,\n",
       "   327,\n",
       "   327,\n",
       "   327,\n",
       "   327,\n",
       "   327,\n",
       "   326,\n",
       "   326,\n",
       "   326,\n",
       "   327,\n",
       "   327,\n",
       "   327,\n",
       "   327,\n",
       "   327,\n",
       "   327,\n",
       "   327,\n",
       "   327,\n",
       "   327,\n",
       "   326,\n",
       "   326,\n",
       "   326,\n",
       "   326,\n",
       "   327,\n",
       "   327,\n",
       "   326,\n",
       "   326,\n",
       "   326,\n",
       "   326,\n",
       "   326,\n",
       "   327,\n",
       "   327,\n",
       "   327,\n",
       "   327,\n",
       "   327,\n",
       "   327,\n",
       "   326,\n",
       "   326,\n",
       "   326,\n",
       "   327,\n",
       "   327,\n",
       "   422,\n",
       "   423,\n",
       "   422,\n",
       "   422,\n",
       "   422,\n",
       "   422,\n",
       "   326,\n",
       "   294,\n",
       "   294,\n",
       "   294,\n",
       "   294,\n",
       "   326,\n",
       "   423,\n",
       "   422,\n",
       "   423,\n",
       "   422,\n",
       "   422,\n",
       "   422,\n",
       "   326,\n",
       "   326,\n",
       "   326,\n",
       "   326,\n",
       "   326,\n",
       "   422,\n",
       "   422,\n",
       "   422,\n",
       "   326,\n",
       "   326,\n",
       "   326,\n",
       "   326,\n",
       "   326,\n",
       "   326,\n",
       "   326,\n",
       "   327,\n",
       "   326,\n",
       "   326,\n",
       "   295,\n",
       "   295,\n",
       "   295,\n",
       "   295,\n",
       "   295,\n",
       "   295,\n",
       "   295,\n",
       "   295,\n",
       "   294,\n",
       "   294,\n",
       "   294,\n",
       "   295,\n",
       "   295,\n",
       "   294,\n",
       "   294,\n",
       "   295,\n",
       "   294,\n",
       "   294,\n",
       "   294,\n",
       "   294,\n",
       "   294,\n",
       "   294,\n",
       "   294,\n",
       "   294,\n",
       "   294,\n",
       "   294,\n",
       "   294],\n",
       "  'camera': [60,\n",
       "   60,\n",
       "   60,\n",
       "   60,\n",
       "   60,\n",
       "   60,\n",
       "   60,\n",
       "   60,\n",
       "   60,\n",
       "   61,\n",
       "   61,\n",
       "   60,\n",
       "   61,\n",
       "   65,\n",
       "   65,\n",
       "   65,\n",
       "   76,\n",
       "   64,\n",
       "   60,\n",
       "   60,\n",
       "   60,\n",
       "   60,\n",
       "   60,\n",
       "   60,\n",
       "   60,\n",
       "   60,\n",
       "   50,\n",
       "   54,\n",
       "   65,\n",
       "   98,\n",
       "   98,\n",
       "   60,\n",
       "   60,\n",
       "   60,\n",
       "   50,\n",
       "   52,\n",
       "   53,\n",
       "   53,\n",
       "   62,\n",
       "   64,\n",
       "   63,\n",
       "   64,\n",
       "   63,\n",
       "   60,\n",
       "   60,\n",
       "   60,\n",
       "   60,\n",
       "   82,\n",
       "   71,\n",
       "   60,\n",
       "   60,\n",
       "   60,\n",
       "   60,\n",
       "   60,\n",
       "   75,\n",
       "   63,\n",
       "   62,\n",
       "   63,\n",
       "   64,\n",
       "   61,\n",
       "   60,\n",
       "   60,\n",
       "   60,\n",
       "   61,\n",
       "   61,\n",
       "   60,\n",
       "   61,\n",
       "   60,\n",
       "   60,\n",
       "   60,\n",
       "   60,\n",
       "   60,\n",
       "   60,\n",
       "   60,\n",
       "   60,\n",
       "   60,\n",
       "   60,\n",
       "   58,\n",
       "   60,\n",
       "   59,\n",
       "   60,\n",
       "   60,\n",
       "   60,\n",
       "   60,\n",
       "   60,\n",
       "   60,\n",
       "   60,\n",
       "   60,\n",
       "   60,\n",
       "   60,\n",
       "   60,\n",
       "   60,\n",
       "   60,\n",
       "   60,\n",
       "   60,\n",
       "   60,\n",
       "   60,\n",
       "   60,\n",
       "   59,\n",
       "   60,\n",
       "   60,\n",
       "   57,\n",
       "   56,\n",
       "   58,\n",
       "   59,\n",
       "   59,\n",
       "   59,\n",
       "   58,\n",
       "   58,\n",
       "   60,\n",
       "   60,\n",
       "   60,\n",
       "   59,\n",
       "   59,\n",
       "   60,\n",
       "   60,\n",
       "   58,\n",
       "   60,\n",
       "   60,\n",
       "   60,\n",
       "   60,\n",
       "   60,\n",
       "   60,\n",
       "   60,\n",
       "   60,\n",
       "   60,\n",
       "   60,\n",
       "   60]}}"
      ]
     },
     "execution_count": 35,
     "metadata": {},
     "output_type": "execute_result"
    }
   ],
   "source": [
    "res = memory.search(query, k=5)\n",
    "res[0]"
   ]
  },
  {
   "cell_type": "code",
   "execution_count": 25,
   "metadata": {},
   "outputs": [
    {
     "data": {
      "image/png": "[encoded data removed]",
      "text/plain": [
       "<PIL.Image.Image image mode=RGB size=128x128>"
      ]
     },
     "execution_count": 25,
     "metadata": {},
     "output_type": "execute_result"
    }
   ],
   "source": [
    "Image.fromarray(demonstrations[0][\"video\"][res[0][\"sit_frame_idx\"]][..., ::-1])"
   ]
  },
  {
   "cell_type": "code",
   "execution_count": 34,
   "metadata": {},
   "outputs": [
    {
     "data": {
      "image/png": "[encoded data removed]",
      "text/plain": [
       "<PIL.Image.Image image mode=RGB size=128x128>"
      ]
     },
     "execution_count": 34,
     "metadata": {},
     "output_type": "execute_result"
    }
   ],
   "source": [
    "Image.fromarray(demonstrations[0][\"video\"][res[3][\"sit_frame_idx\"]][..., ::-1])"
   ]
  },
  {
   "cell_type": "code",
   "execution_count": null,
   "metadata": {},
   "outputs": [],
   "source": [
    "controller = Controller()"
   ]
  },
  {
   "cell_type": "code",
   "execution_count": null,
   "metadata": {},
   "outputs": [],
   "source": [
    "def one_hot_encode(actions: list, num_classes: int, add_batch_dim: bool = True):\n",
    "    '''One-hot encodes the actions'''\n",
    "    actions = torch.tensor(actions)\n",
    "    if add_batch_dim:\n",
    "        actions = actions.unsqueeze(0)\n",
    "    return torch.nn.functional.one_hot(actions, num_classes=num_classes).float()"
   ]
  },
  {
   "cell_type": "code",
   "execution_count": null,
   "metadata": {},
   "outputs": [],
   "source": [
    "_observation = torch.Tensor(situations[0][\"situation\"]).reshape(1, 1, -1)\n",
    "_situation = torch.Tensor(situations[0][\"situation\"]).reshape(1, 1, -1)\n",
    "_actions = situations[10][\"actions\"]\n",
    "_actions = {\n",
    "    \"camera\": one_hot_encode(_actions['camera'], 121),\n",
    "    \"keyboard\": one_hot_encode(_actions['buttons'], 8641)\n",
    "}"
   ]
  },
  {
   "cell_type": "code",
   "execution_count": null,
   "metadata": {},
   "outputs": [],
   "source": [
    "out_key, out_cam = controller(_observation, _situation, _actions)"
   ]
  },
  {
   "cell_type": "code",
   "execution_count": null,
   "metadata": {},
   "outputs": [],
   "source": [
    "out_key.shape"
   ]
  },
  {
   "cell_type": "code",
   "execution_count": null,
   "metadata": {},
   "outputs": [],
   "source": [
    "out_cam.shape"
   ]
  },
  {
   "cell_type": "code",
   "execution_count": null,
   "metadata": {},
   "outputs": [],
   "source": []
  }
 ],
 "metadata": {
  "kernelspec": {
   "display_name": "ai",
   "language": "python",
   "name": "python3"
  },
  "language_info": {
   "codemirror_mode": {
    "name": "ipython",
    "version": 3
   },
   "file_extension": ".py",
   "mimetype": "text/x-python",
   "name": "python",
   "nbconvert_exporter": "python",
   "pygments_lexer": "ipython3",
   "version": "3.8.15"
  },
  "orig_nbformat": 4
 },
 "nbformat": 4,
 "nbformat_minor": 2
}
